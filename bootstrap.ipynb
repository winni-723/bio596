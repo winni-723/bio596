{
 "cells": [
  {
   "cell_type": "code",
   "execution_count": 71,
   "id": "1f84c9d0-0d3f-437b-8586-c6f181e0766e",
   "metadata": {},
   "outputs": [],
   "source": [
    "import numpy as np\n",
    "import pandas as pd\n",
    "import seaborn as sns"
   ]
  },
  {
   "cell_type": "markdown",
   "id": "52fcad46-a08f-43a9-863c-5b862c82af4f",
   "metadata": {},
   "source": [
    "# Simple example of bootstrap estimates\n",
    "First create two populations for each study"
   ]
  },
  {
   "cell_type": "code",
   "execution_count": 72,
   "id": "31fffe06-fa20-4197-ab35-7e6bd6593405",
   "metadata": {},
   "outputs": [],
   "source": [
    "n_A = 11037\n",
    "n_B = 11034\n",
    "\n",
    "heart_attack_A = np.zeros(n_A)\n",
    "heart_attack_A[:104] = 1\n",
    "heart_attack_B = np.zeros(n_B)\n",
    "heart_attack_B[:189] = 1\n",
    "\n",
    "stroke_A = np.zeros(n_A)\n",
    "stroke_A[:119] = 1\n",
    "stroke_B = np.zeros(n_B)\n",
    "stroke_B[:98] = 1"
   ]
  },
  {
   "cell_type": "markdown",
   "id": "6c1c76d6-56b9-4743-ac4e-fedcfe67cc63",
   "metadata": {},
   "source": [
    "Let's deal with the heart attack data first. Create B bootstrap samples and calculate our statistic:"
   ]
  },
  {
   "cell_type": "code",
   "execution_count": 73,
   "id": "02125432-cd52-4bdf-95ff-27cc5f1b2cd1",
   "metadata": {},
   "outputs": [],
   "source": [
    "B = 1000\n",
    "T_h = np.zeros(B)\n",
    "\n",
    "for i in range(B):\n",
    "    h_A = np.random.choice(heart_attack_A,n_A) # bootstrap sample A\n",
    "    h_B = np.random.choice(heart_attack_B,n_B) # bootstrap sample B\n",
    "    T_h[i] = np.average(h_A) / np.average(h_B) # ratio of rates"
   ]
  },
  {
   "cell_type": "markdown",
   "id": "aa7f71a2-7292-42d6-993d-ac6f36f0ca92",
   "metadata": {},
   "source": [
    "And repeat for the stroke data"
   ]
  },
  {
   "cell_type": "code",
   "execution_count": 74,
   "id": "2c9b1c56-50df-4cf1-89f0-c4e103644c89",
   "metadata": {},
   "outputs": [],
   "source": [
    "T_s = np.zeros(B)\n",
    "\n",
    "for i in range(B):\n",
    "    s_A = np.random.choice(stroke_A,n_A)\n",
    "    s_B = np.random.choice(stroke_B,n_B)\n",
    "    T_s[i] = np.average(s_A) / np.average(s_B)"
   ]
  },
  {
   "cell_type": "markdown",
   "id": "65293779-2192-491e-bdcd-22e7e2129b7b",
   "metadata": {},
   "source": [
    "Now let's look at some summary statistics of our bootstrap replicates:"
   ]
  },
  {
   "cell_type": "code",
   "execution_count": 75,
   "id": "5f5e744a-1427-4290-b640-32102b54c31c",
   "metadata": {},
   "outputs": [
    {
     "data": {
      "text/html": [
       "<div>\n",
       "<style scoped>\n",
       "    .dataframe tbody tr th:only-of-type {\n",
       "        vertical-align: middle;\n",
       "    }\n",
       "\n",
       "    .dataframe tbody tr th {\n",
       "        vertical-align: top;\n",
       "    }\n",
       "\n",
       "    .dataframe thead th {\n",
       "        text-align: right;\n",
       "    }\n",
       "</style>\n",
       "<table border=\"1\" class=\"dataframe\">\n",
       "  <thead>\n",
       "    <tr style=\"text-align: right;\">\n",
       "      <th></th>\n",
       "      <th>heart attacks</th>\n",
       "      <th>strokes</th>\n",
       "    </tr>\n",
       "  </thead>\n",
       "  <tbody>\n",
       "    <tr>\n",
       "      <th>count</th>\n",
       "      <td>1000.000000</td>\n",
       "      <td>1000.000000</td>\n",
       "    </tr>\n",
       "    <tr>\n",
       "      <th>mean</th>\n",
       "      <td>0.551805</td>\n",
       "      <td>1.228141</td>\n",
       "    </tr>\n",
       "    <tr>\n",
       "      <th>std</th>\n",
       "      <td>0.066109</td>\n",
       "      <td>0.170869</td>\n",
       "    </tr>\n",
       "    <tr>\n",
       "      <th>min</th>\n",
       "      <td>0.374898</td>\n",
       "      <td>0.794866</td>\n",
       "    </tr>\n",
       "    <tr>\n",
       "      <th>25%</th>\n",
       "      <td>0.507634</td>\n",
       "      <td>1.107043</td>\n",
       "    </tr>\n",
       "    <tr>\n",
       "      <th>50%</th>\n",
       "      <td>0.547419</td>\n",
       "      <td>1.210197</td>\n",
       "    </tr>\n",
       "    <tr>\n",
       "      <th>75%</th>\n",
       "      <td>0.594925</td>\n",
       "      <td>1.332971</td>\n",
       "    </tr>\n",
       "    <tr>\n",
       "      <th>max</th>\n",
       "      <td>0.764498</td>\n",
       "      <td>1.858650</td>\n",
       "    </tr>\n",
       "  </tbody>\n",
       "</table>\n",
       "</div>"
      ],
      "text/plain": [
       "       heart attacks      strokes\n",
       "count    1000.000000  1000.000000\n",
       "mean        0.551805     1.228141\n",
       "std         0.066109     0.170869\n",
       "min         0.374898     0.794866\n",
       "25%         0.507634     1.107043\n",
       "50%         0.547419     1.210197\n",
       "75%         0.594925     1.332971\n",
       "max         0.764498     1.858650"
      ]
     },
     "execution_count": 75,
     "metadata": {},
     "output_type": "execute_result"
    }
   ],
   "source": [
    "df = pd.DataFrame({'heart attacks': T_h, 'strokes': T_s})\n",
    "df.describe()"
   ]
  },
  {
   "cell_type": "markdown",
   "id": "1eb95d1f-241b-4a27-86e0-88698842e13e",
   "metadata": {},
   "source": [
    "Often we might be more interested in the 95% percentile interval:"
   ]
  },
  {
   "cell_type": "code",
   "execution_count": 76,
   "id": "0b82b9cd-f830-471d-ad06-608d85343c25",
   "metadata": {},
   "outputs": [
    {
     "name": "stdout",
     "output_type": "stream",
     "text": [
      "Approximate 95 percentile interval for heart attack ratio of rates: (0.428439, 0.694454)\n",
      "Approximate 95 percentile interval for stroke ratio of rates: (0.931775, 1.585826)\n"
     ]
    }
   ],
   "source": [
    "print('Approximate 95 percentile interval for heart attack ratio of rates: (%f, %f)' % (np.percentile(T_h, 2.5), np.percentile(T_h, 97.5)))\n",
    "print('Approximate 95 percentile interval for stroke ratio of rates: (%f, %f)' % (np.percentile(T_s, 2.5), np.percentile(T_s, 97.5)))"
   ]
  },
  {
   "cell_type": "markdown",
   "id": "da19ead9-e373-46cc-81bb-947a9fac6e4e",
   "metadata": {},
   "source": [
    "Now let's look at the confidence intervals:"
   ]
  },
  {
   "cell_type": "code",
   "execution_count": 77,
   "id": "172aa561-54ab-42a7-aeff-3cb77532ee97",
   "metadata": {},
   "outputs": [
    {
     "name": "stdout",
     "output_type": "stream",
     "text": [
      "CI95 for heart attack ratio of rates: (0.405776, 0.671791)\n",
      "CI95 for stroke ratio of rates: (0.842085, 1.496136)\n"
     ]
    }
   ],
   "source": [
    "ts_h = (104/11037) / (189/11034)\n",
    "ts_s = (119/11037) / (98/11034)\n",
    "alpha = 5\n",
    "\n",
    "q95_h = (ts_h - np.percentile(T_h - ts_h, 100-alpha/2), ts_h - np.percentile(T_h - ts_h, alpha/2))\n",
    "q95_s = (ts_s - np.percentile(T_s - ts_s, 100-alpha/2), ts_s - np.percentile(T_s - ts_s, alpha/2))\n",
    "\n",
    "print('CI95 for heart attack ratio of rates: (%f, %f)' % (q95_h[0], q95_h[1]))\n",
    "print('CI95 for stroke ratio of rates: (%f, %f)' % (q95_s[0], q95_s[1]))"
   ]
  },
  {
   "cell_type": "markdown",
   "id": "c9802b37-6942-4d19-ab0a-160a6dd601cb",
   "metadata": {},
   "source": [
    "# More complicated example with polynomial regression\n",
    "Let's start by defining a polynomial function, $y = \\beta_0 + \\beta_1x + \\beta_2x^2 + \\epsilon$, and sampling some data"
   ]
  },
  {
   "cell_type": "code",
   "execution_count": 78,
   "id": "02ed37da-ccce-4de2-8e74-19ac10b58412",
   "metadata": {},
   "outputs": [
    {
     "data": {
      "text/plain": [
       "<Axes: >"
      ]
     },
     "execution_count": 78,
     "metadata": {},
     "output_type": "execute_result"
    },
    {
     "data": {
      "image/png": "[encoded data removed]",
      "text/plain": [
       "<Figure size 640x480 with 1 Axes>"
      ]
     },
     "metadata": {},
     "output_type": "display_data"
    }
   ],
   "source": [
    "beta = [-1, 2, -1]\n",
    "model = np.poly1d(beta)\n",
    "\n",
    "x = np.random.random(50)*2\n",
    "y = model(x) + np.random.randn(50)*.2\n",
    "\n",
    "sns.scatterplot(x=x,y=y)"
   ]
  },
  {
   "cell_type": "markdown",
   "id": "f5b588f6-1b80-4585-80e6-46f89d482a4a",
   "metadata": {},
   "source": [
    "We can fit a polynomial regression:"
   ]
  },
  {
   "cell_type": "code",
   "execution_count": 79,
   "id": "7f898740-e62c-4776-9641-b503e26a06d6",
   "metadata": {},
   "outputs": [
    {
     "data": {
      "text/plain": [
       "array([-1.01897208,  2.00862369, -0.96213849])"
      ]
     },
     "execution_count": 79,
     "metadata": {},
     "output_type": "execute_result"
    }
   ],
   "source": [
    "fit = np.polyfit(x,y,2)\n",
    "fit"
   ]
  },
  {
   "cell_type": "markdown",
   "id": "6608db42-5302-427c-b377-0af2f3d477e7",
   "metadata": {},
   "source": [
    "Our estimate is that the maximum occurs at $\\hat{\\theta} = -\\frac{\\hat{\\beta_1}}{2\\hat{\\beta_2}}$ (and we know the maximum should be at 1)"
   ]
  },
  {
   "cell_type": "code",
   "execution_count": 80,
   "id": "e0b8d88f-8fe4-44b4-9012-ff8ad782e43d",
   "metadata": {},
   "outputs": [
    {
     "data": {
      "text/plain": [
       "np.float64(1.0438329376810236)"
      ]
     },
     "execution_count": 80,
     "metadata": {},
     "output_type": "execute_result"
    }
   ],
   "source": [
    "theta_hat = -fit[1]/(2*fit[2])\n",
    "theta_hat"
   ]
  },
  {
   "cell_type": "markdown",
   "id": "f5118003-538e-4cd2-aa08-d45944d543ec",
   "metadata": {},
   "source": [
    "Now generate bootstrap samples of the data, polynomial fits of each sample, and bootstrap replicates of the estimated maximum:"
   ]
  },
  {
   "cell_type": "code",
   "execution_count": 81,
   "id": "530f3ce0-3f58-4d6c-b7b8-38532fcf813c",
   "metadata": {},
   "outputs": [],
   "source": [
    "B = 1000\n",
    "n = len(x)\n",
    "T = np.zeros(B)\n",
    "\n",
    "for i in range(B):\n",
    "    idx = np.random.choice(n,n)\n",
    "    xi = x[idx]\n",
    "    yi = y[idx]\n",
    "    fit_i = np.polyfit(xi,yi,2)\n",
    "    t = -fit_i[1]/(2*fit_i[2])\n",
    "    T[i] = t"
   ]
  },
  {
   "cell_type": "markdown",
   "id": "95be05fe-8b40-4e91-affc-46a94c6996e1",
   "metadata": {},
   "source": [
    "Finally, the bootstrap confidence interval:"
   ]
  },
  {
   "cell_type": "code",
   "execution_count": 82,
   "id": "65ddb9c6-9cbe-4e5f-8e28-4fb9dbd0f67e",
   "metadata": {},
   "outputs": [
    {
     "data": {
      "text/plain": [
       "(np.float64(0.9706411583105583), np.float64(1.1278817000304602))"
      ]
     },
     "execution_count": 82,
     "metadata": {},
     "output_type": "execute_result"
    }
   ],
   "source": [
    "alpha = 5\n",
    "\n",
    "q95 = (theta_hat - np.percentile(T - theta_hat, 100-alpha/2), theta_hat - np.percentile(T - theta_hat, alpha/2))\n",
    "q95"
   ]
  },
  {
   "cell_type": "code",
   "execution_count": 83,
   "id": "662f1d95-ec98-4e0f-a1a6-f8236dad1e25",
   "metadata": {},
   "outputs": [
    {
     "data": {
      "text/plain": [
       "(np.float64(0.9597841753315871), np.float64(1.1170247170514889))"
      ]
     },
     "execution_count": 83,
     "metadata": {},
     "output_type": "execute_result"
    }
   ],
   "source": [
    "(np.percentile(T,2.5), np.percentile(T,97.5))"
   ]
  },
  {
   "cell_type": "markdown",
   "id": "ba57b121-2178-480b-b447-b2a961c9348f",
   "metadata": {},
   "source": [
    "# High dimensional bootstrap\n",
    "Let's say we're interested in a confidence set for a high dimensional covariance matrix (...well, maybe not so high dimensional)"
   ]
  },
  {
   "cell_type": "code",
   "execution_count": 84,
   "id": "20d67b9a-a0a8-4d10-b25f-50926bfe5afa",
   "metadata": {},
   "outputs": [
    {
     "data": {
      "text/plain": [
       "(100, 3)"
      ]
     },
     "execution_count": 84,
     "metadata": {},
     "output_type": "execute_result"
    }
   ],
   "source": [
    "mu = [0,0,0]\n",
    "sigma = np.array([[1,0,.5],[0,2,.1],[.5,.1,1]])\n",
    "X = np.random.multivariate_normal(mu,sigma,100)\n",
    "X.shape"
   ]
  },
  {
   "cell_type": "code",
   "execution_count": 85,
   "id": "c243fab6-8a07-4e76-a4e3-90013b72a86a",
   "metadata": {},
   "outputs": [
    {
     "data": {
      "text/plain": [
       "array([[0.86169405, 0.16714433, 0.56166515],\n",
       "       [0.16714433, 1.83117404, 0.16865598],\n",
       "       [0.56166515, 0.16865598, 1.10314082]])"
      ]
     },
     "execution_count": 85,
     "metadata": {},
     "output_type": "execute_result"
    }
   ],
   "source": [
    "theta_hat = np.cov(X.T)\n",
    "theta_hat"
   ]
  },
  {
   "cell_type": "code",
   "execution_count": 86,
   "id": "4d9ec33a-0b79-4013-a749-9e13c1ee5aa5",
   "metadata": {},
   "outputs": [],
   "source": [
    "B = 1000\n",
    "n = X.shape[0]\n",
    "T = np.zeros((B,X.shape[1],X.shape[1]))\n",
    "\n",
    "for i in range(B):\n",
    "    idx = np.random.choice(n,n)\n",
    "    Xi = X[idx]\n",
    "    t = np.cov(Xi.T)\n",
    "    T[i] = t"
   ]
  },
  {
   "cell_type": "code",
   "execution_count": 87,
   "id": "01d84fa5-a05d-4b55-9167-d811346d1b1e",
   "metadata": {},
   "outputs": [
    {
     "name": "stdout",
     "output_type": "stream",
     "text": [
      "0.4969272703008564\n"
     ]
    }
   ],
   "source": [
    "q = abs(T - theta_hat).max(axis=(1,2))\n",
    "q95 = np.percentile(q,95)\n",
    "print(q95)\n",
    "q95_low = theta_hat - q95\n",
    "q95_high = theta_hat + q95"
   ]
  },
  {
   "cell_type": "code",
   "execution_count": 88,
   "id": "c829b0c4-a2ed-4c2b-8dd6-d0900334e68a",
   "metadata": {},
   "outputs": [
    {
     "data": {
      "text/plain": [
       "array([[ 0.36476678, -0.32978294,  0.06473788],\n",
       "       [-0.32978294,  1.33424676, -0.32827129],\n",
       "       [ 0.06473788, -0.32827129,  0.60621355]])"
      ]
     },
     "execution_count": 88,
     "metadata": {},
     "output_type": "execute_result"
    }
   ],
   "source": [
    "q95_low"
   ]
  },
  {
   "cell_type": "code",
   "execution_count": 89,
   "id": "9d29ef24-fd0e-448f-b4bf-d388073ec0d6",
   "metadata": {},
   "outputs": [
    {
     "data": {
      "text/plain": [
       "array([[1.35862132, 0.6640716 , 1.05859242],\n",
       "       [0.6640716 , 2.32810131, 0.66558325],\n",
       "       [1.05859242, 0.66558325, 1.60006809]])"
      ]
     },
     "execution_count": 89,
     "metadata": {},
     "output_type": "execute_result"
    }
   ],
   "source": [
    "q95_high"
   ]
  },
  {
   "cell_type": "code",
   "execution_count": null,
   "id": "75803215-ad69-4331-8842-1515519e4e17",
   "metadata": {},
   "outputs": [],
   "source": []
  }
 ],
 "metadata": {
  "kernelspec": {
   "display_name": "venv",
   "language": "python",
   "name": "python3"
  },
  "language_info": {
   "codemirror_mode": {
    "name": "ipython",
    "version": 3
   },
   "file_extension": ".py",
   "mimetype": "text/x-python",
   "name": "python",
   "nbconvert_exporter": "python",
   "pygments_lexer": "ipython3",
   "version": "3.12.7"
  }
 },
 "nbformat": 4,
 "nbformat_minor": 5
}
