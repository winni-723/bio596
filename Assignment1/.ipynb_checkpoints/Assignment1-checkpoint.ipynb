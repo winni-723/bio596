{
 "cells": [
  {
   "cell_type": "markdown",
   "id": "548fd38f-5014-4dc7-80a1-d7dc5fdbd595",
   "metadata": {},
   "source": [
    "# Assignment #1\n",
    "### Exploratory Data Analysis"
   ]
  },
  {
   "cell_type": "markdown",
   "id": "b660921f-790e-4514-b2df-db917c02ad4e",
   "metadata": {},
   "source": [
    "#### In this assignment, we will investigate relationships in covid severity using bulk RNA-seq data.\n",
    "\n",
    "The data we will look at is from a large scale multi-omic analysis of COVID severity published in early 2021. This means that this dataset used many -omics techniologies (transcriptomics, proteomics, metabolomics, etc.) to investigate biomarkers associated with COVID-19 status and severity. For this assignment, we're specifically going to look at RNA-seq data collected from plasma and leukocyte samples.\n",
    "\n",
    "In this assignment, we'll do an exploratory data analysis to try to find some interesting biological conclusions about how gene expression in cells change in response to COVID19!\n",
    "\n",
    "Read the paper to learn more about the study [here](https://www.sciencedirect.com/science/article/pii/S2405471220303719?via%3Dihub#appsec2). The data is located [here](https://www.ncbi.nlm.nih.gov/geo/query/acc.cgi?acc=GSE157103) (data is already included in the zip file, so don't worry about downloading it from there).\n"
   ]
  },
  {
   "cell_type": "markdown",
   "id": "679ec1cb-bbf4-4e1e-ac06-02180a9b70bf",
   "metadata": {},
   "source": [
    "#### First, let's load in our packages"
   ]
  },
  {
   "cell_type": "code",
   "execution_count": null,
   "id": "e84d3fc4-73c6-48f7-8f94-da58eece408a",
   "metadata": {},
   "outputs": [],
   "source": [
    "import pandas as pd\n",
    "import numpy as np\n",
    "import seaborn as sns"
   ]
  },
  {
   "cell_type": "code",
   "execution_count": null,
   "id": "f5cd02d6-c196-4acc-bda2-c20b8b06e084",
   "metadata": {},
   "outputs": [],
   "source": [
    "# You may need to edit this line if you can't load the dataset\n",
    "# os.chdir('/Users/vishal/Documents/TA_Class/assignments/Assignment1/')"
   ]
  },
  {
   "cell_type": "markdown",
   "id": "90b0fb92-f1b7-4087-b3ab-0c3da0b7359b",
   "metadata": {},
   "source": [
    "#### And then, our data"
   ]
  },
  {
   "cell_type": "code",
   "execution_count": null,
   "id": "366c300e-70d3-45f7-b783-973967e1b15e",
   "metadata": {},
   "outputs": [],
   "source": [
    "# First, we load our RNA counts table\n",
    "counts=pd.read_table('./GSE157103_genes.tpm.tsv', sep='\\t')\n",
    "# Next, let's do some preprocessing for convenience\n",
    "counts = counts.rename(columns={'#symbol': 'sampleID'})\n",
    "counts = counts.set_index('sampleID').T\n",
    "# Now, let's look at the first 5 rows\n",
    "counts.head()"
   ]
  },
  {
   "cell_type": "code",
   "execution_count": null,
   "id": "aa78170e-deba-4ccf-84fc-e8dfe4ef20bb",
   "metadata": {},
   "outputs": [],
   "source": [
    "# Next, we can load our metadata file\n",
    "# This will contain various characteristics about each sample\n",
    "metadata = pd.read_table('./GSE157103_metadata.csv', sep=',')\n",
    "# Now, some preprocessing\n",
    "del metadata['Unnamed: 0']\n",
    "metadata = metadata.set_index('sampleID')\n",
    "metadata['age'][metadata['age'] == ':'] = np.nan\n",
    "metadata['age'] = metadata['age'].astype('float')\n",
    "# And now let's look at the first 5 rows\n",
    "metadata.head()"
   ]
  },
  {
   "cell_type": "markdown",
   "id": "49ecd060-3cdf-4876-af7e-411f72893b2e",
   "metadata": {},
   "source": [
    "## 1: Preprocessing\n",
    "\n",
    "First, we're going to take a look at our dataset and get it ready for our analysis."
   ]
  },
  {
   "cell_type": "markdown",
   "id": "d01aa184-b3c3-47a4-a49f-e3a1118bb1cf",
   "metadata": {},
   "source": [
    "#### a) Overview of the Data"
   ]
  },
  {
   "cell_type": "markdown",
   "id": "b6a26763-b81b-410c-9812-7ced410f9f4a",
   "metadata": {},
   "source": [
    "1. Read a little about the study and the dataset. What kind of tissue is our data from? What information does the `counts` dataframe contain? What information does the `metadata` dataframe contain? What do the rows and columns represent in each of these dataframes?"
   ]
  },
  {
   "cell_type": "markdown",
   "id": "2dd07850-4ec2-42e1-94c5-1791d146957a",
   "metadata": {},
   "source": [
    "*ANSWER HERE*"
   ]
  },
  {
   "cell_type": "markdown",
   "id": "3131a63e-e17f-486c-b1cc-e0f9f0532a40",
   "metadata": {},
   "source": [
    "2. How many samples do we have? How many genes?"
   ]
  },
  {
   "cell_type": "markdown",
   "id": "111c6489-97a2-4493-a0a0-3909dd4831af",
   "metadata": {},
   "source": [
    "*ANSWER HERE*"
   ]
  },
  {
   "cell_type": "markdown",
   "id": "22950ec1-510e-4973-9e91-47aeb39d5b60",
   "metadata": {},
   "source": [
    "#### b) Filtering Data\n",
    "1. When we do RNA-seq analysis, we end up with a lot of genes that have very low expression and need to be filtered out. Filter the `counts` dataframe to only contain genes that have non-zero expression in at least 10% of samples. In other words, if a gene has an expression of zero in more than 12 samples, remove that gene."
   ]
  },
  {
   "cell_type": "code",
   "execution_count": null,
   "id": "756a880d-05a7-475a-a9d8-01cc49f543b5",
   "metadata": {},
   "outputs": [],
   "source": [
    "# Filter genes here"
   ]
  },
  {
   "cell_type": "markdown",
   "id": "4bdc698e-d1ab-4cca-b344-7da25b3414f6",
   "metadata": {},
   "source": [
    "2. How many genes did we filter out?"
   ]
  },
  {
   "cell_type": "markdown",
   "id": "d1837a9d-c9ce-4d75-ada4-667ac5fbaf8b",
   "metadata": {},
   "source": [
    "*ANSWER HERE*"
   ]
  },
  {
   "cell_type": "markdown",
   "id": "8ea89dbc-590e-41d1-8d2b-a95d25397e41",
   "metadata": {},
   "source": [
    "**NOTE: Use this filtered dataset for the remaining analysis.**"
   ]
  },
  {
   "cell_type": "markdown",
   "id": "f783cf5f-5abc-46b6-a351-70024c7c2403",
   "metadata": {},
   "source": [
    "#### c) Data Normalization"
   ]
  },
  {
   "cell_type": "markdown",
   "id": "7d84ad94-f013-44bc-9517-683ba339df66",
   "metadata": {},
   "source": [
    "1. This data is already normalized for us. How has the data been normalized? (hint, look at the filenames)."
   ]
  },
  {
   "cell_type": "markdown",
   "id": "81971db5-3289-4267-96b1-03a9a7673d17",
   "metadata": {},
   "source": [
    "*ANSWER HERE*"
   ]
  },
  {
   "cell_type": "markdown",
   "id": "92043789-0520-4609-8ca9-8d55234c3cc6",
   "metadata": {},
   "source": [
    "2. Sum up the transcripts for each sample in the data. What do these numbers add up to? How does this confirm our answer from the previous question?"
   ]
  },
  {
   "cell_type": "code",
   "execution_count": null,
   "id": "1c836a98-f16f-4841-b38f-616002d30713",
   "metadata": {},
   "outputs": [],
   "source": [
    "# Sum transcripts here"
   ]
  },
  {
   "cell_type": "markdown",
   "id": "fe7e4caa-823f-4777-a0ec-77357038d42d",
   "metadata": {},
   "source": [
    "*ANSWER HERE*"
   ]
  },
  {
   "cell_type": "markdown",
   "id": "34bfeed7-8897-45d4-908d-4ec250cc579b",
   "metadata": {},
   "source": [
    "3. Why are each of these sample sums slightly different from what we would expect?"
   ]
  },
  {
   "cell_type": "markdown",
   "id": "ec07ff0a-3695-4e9a-a2db-7139f81a7022",
   "metadata": {},
   "source": [
    "*ANSWER HERE*"
   ]
  },
  {
   "cell_type": "markdown",
   "id": "c1d18707-f834-4469-a70a-233217ee5f2c",
   "metadata": {},
   "source": [
    "## 2: Principal Component Analysis\n",
    "\n",
    "Our data is so big! There are tens of thousands of features! In order to visualize our data, we'll use PCA for dimensionality reduction. This will allow us to explore trends in our data."
   ]
  },
  {
   "cell_type": "markdown",
   "id": "dad4efe3-e551-4eb7-a367-234e02b665d3",
   "metadata": {},
   "source": [
    "#### a) Perform Principal Component Analysis\n",
    "1. Perform principal component analysis over samples (use code from class or a package like scikit-learn). Print the first few rows of your computed PCs. What do the rows represent in this matrix? What do the columns represent?"
   ]
  },
  {
   "cell_type": "code",
   "execution_count": null,
   "id": "6590899b-a8c2-4cd8-a1de-2d0a1c9c81bf",
   "metadata": {},
   "outputs": [],
   "source": [
    "# DO PCA HERE"
   ]
  },
  {
   "cell_type": "code",
   "execution_count": null,
   "id": "49dd6c9d-bf12-4bd9-a429-2e724794c168",
   "metadata": {},
   "outputs": [],
   "source": [
    "# PRINT FIRST FEW ROWS OF PCs"
   ]
  },
  {
   "cell_type": "markdown",
   "id": "a728458a-5ef8-4d73-8691-53571623df6c",
   "metadata": {},
   "source": [
    "*ANSWER HERE*"
   ]
  },
  {
   "cell_type": "markdown",
   "id": "4b853842-f80a-44a8-a952-cae06a5299be",
   "metadata": {},
   "source": [
    "2. Now, we can plot the data on the axes of greatest variation in our data (i.e. the principal components). That way, we can visualize the data instead of having to look at 20,000 dimensions. Display a scatterplot of the first 2 principal components. Your plot should display each sample as a dot on a grid with axes PC1 and PC2."
   ]
  },
  {
   "cell_type": "code",
   "execution_count": null,
   "id": "ebe7724d-42cb-492d-865b-cf07f41adad3",
   "metadata": {},
   "outputs": [],
   "source": [
    "# PLOT PCs HERE"
   ]
  },
  {
   "cell_type": "markdown",
   "id": "6d712bf1-104f-4060-b237-05ed898338f1",
   "metadata": {},
   "source": [
    "3. What do you see (qualitatively)? Is there any visible clustering of samples? How are the samples distributed along PC1 and PC2?"
   ]
  },
  {
   "cell_type": "markdown",
   "id": "727bbbcb-6eef-45c6-b52e-5f618409fbc1",
   "metadata": {},
   "source": [
    "*ANSWER HERE*"
   ]
  },
  {
   "cell_type": "markdown",
   "id": "0245c6e6-4fa6-4707-bfdb-cd150d982f80",
   "metadata": {},
   "source": [
    "4. Now that we have principal components, we want to understand how much of the variance in the data is explained by each PC. This will help us understand what each PC represents. Create a plot of variance explained by the first 10 principal components. Comment on any trends you see.\n",
    "\n",
    "   We want a plot that looks like this (with different numbers):\n",
    "\n",
    "   <img src=\"./pve.png\" alt=\"pve\" width=\"300\"/>"
   ]
  },
  {
   "cell_type": "code",
   "execution_count": null,
   "id": "0c3ba85a-7620-402b-9c9a-0a011e282c2c",
   "metadata": {},
   "outputs": [],
   "source": [
    "# PLOT PVE HERE"
   ]
  },
  {
   "cell_type": "markdown",
   "id": "5ce9f089-9d0e-40f9-b353-76d99e94b00c",
   "metadata": {},
   "source": [
    "*ANSWER HERE*"
   ]
  },
  {
   "cell_type": "markdown",
   "id": "ed33ff2b-e494-40e4-8ee9-1ab8176f3ba5",
   "metadata": {},
   "source": [
    "5. Lets investigate what seems to be driving PC1 and PC2. Which genes are most highly associated with the first 4 principal components? The loadings for genes are in the `U` variable from `our_pca()` function. We want four plots that look like this:\n",
    "   \n",
    "   <img src=\"./loadings.png\" alt=\"load\" width=\"300\"/>"
   ]
  },
  {
   "cell_type": "code",
   "execution_count": null,
   "id": "02a67481-8384-4c55-bd65-2d7c0da2947e",
   "metadata": {},
   "outputs": [],
   "source": [
    "# PLOT LOADINGS HERE"
   ]
  },
  {
   "cell_type": "markdown",
   "id": "e1eabd4e-b7d1-45af-8ffc-a179cae88a57",
   "metadata": {},
   "source": [
    "6. There definitiely seems to be one gene that is mostly driving PC1. What gene is it? What is this gene? What is its role? What types of cells tend to express this gene."
   ]
  },
  {
   "cell_type": "markdown",
   "id": "e3315510-7bee-497c-9ecf-ec2f574f2b81",
   "metadata": {},
   "source": [
    "*ANSWER HERE*"
   ]
  },
  {
   "cell_type": "markdown",
   "id": "a3c03df7-6ee9-4616-82aa-a32c45b56ae7",
   "metadata": {},
   "source": [
    "7. Recall that these samples are from plasma and leukocyte samples from patients. Knowing this, why do you think that this gene has such a high influence on our PCs? Why is this not something we want?"
   ]
  },
  {
   "cell_type": "markdown",
   "id": "e5587f8c-8370-4c6a-b3ea-7ad8350ee429",
   "metadata": {},
   "source": [
    "*ANSWER HERE*"
   ]
  },
  {
   "cell_type": "markdown",
   "id": "13700f68-d34b-458c-aa83-b0330847ac34",
   "metadata": {},
   "source": [
    "8. Because PC1 is primarily driven by this unwanted observation, and does not appear to contain information on the biology we're after, generate a data matrix with PC1 removed.\n",
    "\n",
    "   One way to do this is to first, take the formulation of the singular value decomposition X = UDV<sup>T</sup>. Now, compute X again where you set the singular value for PC1 to zero. In other words, set the first (and largest) value in D to zero and recompute the product. (D can also be notated as sigma)\n",
    "\n",
    "   Another way to do this is to look at the function from class. This function returns U and DV<sup>T</sup> (DV<sup>T</sup> is named PCs in the function). So, remove the first column in U, and the first row in DV<sup>T</sup>. Then compute the product.\n",
    "\n",
    "   At the end of this, you should have a representation of the data with PC1 removed."
   ]
  },
  {
   "cell_type": "code",
   "execution_count": null,
   "id": "a808dc5c-ad12-426e-8d05-e79802dd866a",
   "metadata": {},
   "outputs": [],
   "source": [
    "# REMOVE PC1 HERE"
   ]
  },
  {
   "cell_type": "markdown",
   "id": "b082bbde-5967-4970-9f3c-72481af0af8c",
   "metadata": {},
   "source": [
    "9. Regenerate your scatterplot of PC1 and PC2, your proportion variance explained plot, and your gene loadings for the first 4 PCs. Has anything changed? What are the functions of the new most influential genes? Why is this better than before?"
   ]
  },
  {
   "cell_type": "code",
   "execution_count": null,
   "id": "4f4a8575-6844-498f-876e-36dfdd2201cb",
   "metadata": {},
   "outputs": [],
   "source": [
    "# PLOT HERE"
   ]
  },
  {
   "cell_type": "markdown",
   "id": "f25d37a7-96d4-4363-9220-b24f9ed48f60",
   "metadata": {},
   "source": [
    "*ANSWER HERE*"
   ]
  },
  {
   "cell_type": "markdown",
   "id": "2cebc192-ee5e-4854-940a-4578623f2378",
   "metadata": {},
   "source": [
    "#### c) Plotting over features"
   ]
  },
  {
   "cell_type": "markdown",
   "id": "21009b2c-319f-430c-83ca-bba9e93a7604",
   "metadata": {},
   "source": [
    "1. Let's investigate how the various metadata traits cluster on the PC1 vs PC2 plot. Color the samples in the plot by various metadata traits (covid, hospital room, etc.). Play around with each trait, and generate 2-3 plots."
   ]
  },
  {
   "cell_type": "code",
   "execution_count": null,
   "id": "fae1284c-87b3-4274-9d48-b846a06167a9",
   "metadata": {},
   "outputs": [],
   "source": [
    "# PLOT HERE"
   ]
  },
  {
   "cell_type": "markdown",
   "id": "a9691e2c-0726-4508-b4b9-0a6c4608d57f",
   "metadata": {},
   "source": [
    "2. Do you see any trends in the PCA plots you generated?"
   ]
  },
  {
   "cell_type": "markdown",
   "id": "f98555d9-0cc9-4c40-96ff-9ac4fc623e75",
   "metadata": {},
   "source": [
    "*ANSWER HERE*"
   ]
  },
  {
   "cell_type": "markdown",
   "id": "34afa391-d1e5-4653-aadc-1fb3af397090",
   "metadata": {},
   "source": [
    "3. Look at multiple PC's beyond PCs 1 and 2. Investigate PC's 3 and 4. Do you see any trends in these plots? What does this mean for the variation explained by these PCs?"
   ]
  },
  {
   "cell_type": "code",
   "execution_count": null,
   "id": "722deae0-019d-446e-8a13-269c1f684696",
   "metadata": {},
   "outputs": [],
   "source": [
    "# PLOT HERE"
   ]
  },
  {
   "cell_type": "markdown",
   "id": "e1363cf8-208b-420a-9b79-7a888d7a9133",
   "metadata": {},
   "source": [
    "*ANSWER HERE*"
   ]
  },
  {
   "cell_type": "markdown",
   "id": "e6f4b0bb-ba12-481a-ac15-34178d84614b",
   "metadata": {},
   "source": [
    "## 3: Other EDA\n",
    "\n",
    "Ok cool. We were able to use PCA to identify directions of maximal variation in the data and use these to clean the data and find associations with genes and metadata information. Let's take a deeper look at certain aspects of the data."
   ]
  },
  {
   "cell_type": "markdown",
   "id": "e033ba33-3177-433a-8e4d-fb741836097f",
   "metadata": {},
   "source": [
    "#### a) Let's explore relationships between the metadata traits"
   ]
  },
  {
   "cell_type": "markdown",
   "id": "2fbef03f-4ab1-4c5c-9374-5acad930c8d1",
   "metadata": {},
   "source": [
    "1. Investigate the relationship between age and hospital status for patients with covid. Plot this relationship using histograms. Are certain ages more associated with ICU admittance than others?"
   ]
  },
  {
   "cell_type": "code",
   "execution_count": null,
   "id": "a833712c-b7fc-4bbc-950b-e940f6ca35a0",
   "metadata": {},
   "outputs": [],
   "source": [
    "# PLOTS HERE"
   ]
  },
  {
   "cell_type": "markdown",
   "id": "294540b1-727f-4a3f-9895-24a5407fc512",
   "metadata": {},
   "source": [
    "*ANSWER HERE*"
   ]
  },
  {
   "cell_type": "markdown",
   "id": "98f84834-d4a1-4768-9aa3-dbf1aa736980",
   "metadata": {},
   "source": [
    "#### b) Genes of interest"
   ]
  },
  {
   "cell_type": "markdown",
   "id": "4f981983-2a8f-42d4-9411-ef44ea11fe8c",
   "metadata": {},
   "source": [
    "1. In the paper, the authors highlight CD24 as a gene that is relevant. Plot the distribution of CD24 expression across the metadata traits (covid, hospital, sex, etc.). Do you see anything notable? What does CD24 do, and how could that be related to your observations?"
   ]
  },
  {
   "cell_type": "code",
   "execution_count": null,
   "id": "e970c1da-5617-4a7e-8bb0-f7da8f4cd258",
   "metadata": {},
   "outputs": [],
   "source": [
    "# PLOTS HERE"
   ]
  },
  {
   "cell_type": "markdown",
   "id": "dd906286-5ea2-4e27-b69c-4e84cf78cfff",
   "metadata": {},
   "source": [
    "*ANSWER HERE*"
   ]
  },
  {
   "cell_type": "markdown",
   "id": "9c163053-5f59-4fd4-9bdd-e2a00a993517",
   "metadata": {},
   "source": [
    "#### c) Bootstrapping and Multiple Hypothesis Testing"
   ]
  },
  {
   "cell_type": "markdown",
   "id": "15714fe4-4069-4c71-b42f-7c36997c03d2",
   "metadata": {},
   "source": [
    "1. The paper also identified LCN2 as a gene that is differentially expressed in COVID patients. LCN2 is an protein involved in innate immune response. We want to see if expression of this gene changes based on covid status. To start, plot LCN2 expression vs covid status."
   ]
  },
  {
   "cell_type": "code",
   "execution_count": null,
   "id": "18be61a5-d20d-4717-b874-5914663d9cc7",
   "metadata": {},
   "outputs": [],
   "source": [
    "# PLOT HERE"
   ]
  },
  {
   "cell_type": "markdown",
   "id": "84afa44a-dd5e-4b6f-883f-d9c117ec0284",
   "metadata": {},
   "source": [
    "2. These two distributions look pretty different. But we want to see if they are actually significantly different or not. Let's do a bootstrap test. First, generate 1000 bootstrap samples of LCN2 expression for covid and noncovid groups by sampling with replacement. Plot the distributions of our bootstrapped sample means."
   ]
  },
  {
   "cell_type": "code",
   "execution_count": null,
   "id": "3bc57a9c-9c26-4bb1-91bd-2a8d50df20aa",
   "metadata": {},
   "outputs": [],
   "source": [
    "# PLOT HERE"
   ]
  },
  {
   "cell_type": "markdown",
   "id": "5843452e-bfaa-444a-bccc-6903f56dd51c",
   "metadata": {},
   "source": [
    "3. Next, calculate a 95% confidence interval using a test statistic for each sample. Is the expression of CD24 between these groups significantly different? In other words, do their confidence intervals overlap? In addition, calculate p-values by counting the number of times the COVID mean is less than the non-COVID mean.\n",
    "\n",
    "Use the following formula: `CI = sample mean +/- test_statistic*sample standard deviation`"
   ]
  },
  {
   "cell_type": "code",
   "execution_count": null,
   "id": "69a8c30b-5a8c-4027-900b-19bc2d4d261f",
   "metadata": {},
   "outputs": [],
   "source": [
    "# PLOT HERE"
   ]
  },
  {
   "cell_type": "markdown",
   "id": "e4a4b7f3-5394-48e3-a0ca-219be59545d2",
   "metadata": {},
   "source": [
    "*ANSWER HERE*"
   ]
  },
  {
   "cell_type": "markdown",
   "id": "cb19292b-6501-438a-af66-68bfd7781533",
   "metadata": {},
   "source": [
    "4. In addition to CD24 and LCN2, the paper found many genes for which COVID results in increased expression. Let's try to find some of these genes. Perform a bootstrap test like above for the 200 genes below and find their p-values."
   ]
  },
  {
   "cell_type": "code",
   "execution_count": null,
   "id": "673218a2-dcde-4f7c-890f-da3387e816eb",
   "metadata": {},
   "outputs": [],
   "source": [
    "# Use the following genes for your bootstrap test\n",
    "genes = np.array(['WDR33', 'ARHGAP9', 'GASK1B', 'RNF182', 'PTPRO', 'HIVEP2', 'ENOX1','TIPIN', 'R3HDM1', 'ZBTB3', 'METTL18', 'C1orf116', 'APOC1','CDHR5', 'GAB3', 'FGFBP3', 'HSBP1', 'HPS3', 'MRPS10', 'CHST11','ACSM6', 'CNTROB', 'CALCOCO2', 'BACH2', 'RAB2A', 'DAPP1', 'DNAH12','MUS81', 'TMED1', 'PM20D2', 'MTMR2', 'PLEKHG2', 'PFKFB1', 'MINDY2','PEX12', 'PRMT2', 'CFAP161', 'WDR19', 'RSPH3', 'MDC1', 'TMEM131L','CPA4', 'C12orf4', 'DNAJC9', 'ASH2L', 'RCE1', 'PPFIA4', 'SORT1','MAFF', 'ODR4', 'SLC29A2', 'IRF7', 'GOLGA6D', 'ACOT9', 'EIF2S1','ASB1', 'RARS2', 'LIPE', 'ASF1A', 'MOCOS', 'NHS', 'RRP15','HNRNPA2B1', 'MPLKIP', 'KIF17', 'FUZ', 'ZNF525', 'ZNF134', 'MAGI3','CEP250', 'CBFB', 'CHI3L1', 'UBXN4', 'FUBP3', 'IL6ST', 'AGPAT5','TACSTD2', 'SGCE', 'GRK4', 'DAZAP1', 'HECTD2', 'MGST2', 'SLC39A1','TUBGCP2', 'CDK4', 'RIMKLA', 'TAPT1', 'PRF1', 'OR2T8', 'FGFR4','TRAIP', 'MAPK9', 'STK3', 'ALG13', 'ITGA8', 'SH2B1', 'ACTR1B','XRCC3', 'MTARC1', 'SCARB1', 'TNNI1', 'LHB', 'HOXB3', 'C1RL','ATE1', 'ZMYND12', 'PAF1', 'PPIB', 'PPTC7', 'OR5K2', 'ZNF296','PTPMT1', 'CHGA', 'SYN3', 'DCUN1D3', 'ZFYVE16', 'PDLIM4', 'PEX11A','VPS45', 'RALGPS2', 'BBS7', 'INHBE', 'NR1H3', 'LDHD', 'GINS2','DGCR2', 'SPIN3', 'ANKS6', 'CASP6', 'MAGEA8', 'CSNK1G2', 'STRBP','IFNK', 'RCC1', 'C17orf80', 'FAM153A', 'TMEM145', 'SUN3','ARHGAP42', 'GRAMD2B', 'KRT15', 'SYNPO', 'GPR179', 'FBXL6','ACTN3', 'RABGGTA', 'SH2D1A', 'EMCN', 'CD38', 'MAGI1', 'LRGUK','ACTG2', 'CAMKV', 'RGS2', 'TRNAU1AP', 'NLRX1', 'RBL2', 'VPS4A','CKS2', 'TENT4B', 'IDO2', 'CASC3', 'METTL8', 'RAB3D', 'CLSPN','C2CD6', 'MRPS24', 'GPM6A', 'CDC37', 'PRSS41', 'FAM151B', 'C7orf31', 'MATN2', 'MARCHF1', 'IGFALS', 'TESC', 'TMC1', 'ZNF784','TAZ', 'NEU1', 'ZNF41', 'RIMBP3B', 'SLC9A5', 'CBX7', 'GCDH','TMEM18', 'KDR', 'PFDN1', 'KRT38', 'P2RX6', 'TSPAN17', 'ATP6V0B','EPX', 'HLF', 'RRP1', 'SLC16A2', 'GJA1', 'NUPR1', 'USP8', 'CEP128'])"
   ]
  },
  {
   "cell_type": "code",
   "execution_count": null,
   "id": "460c15f9-07f7-4ce9-b7f1-ff3edf595dd0",
   "metadata": {},
   "outputs": [],
   "source": [
    "# CODE HERE"
   ]
  },
  {
   "cell_type": "markdown",
   "id": "56460521-2b8c-4ba7-b17e-7292120495d4",
   "metadata": {},
   "source": [
    "5. Use Benjamini Hochberg FDR multiple hypothesis correction to adjust the p-values from the last section for the number of hypothesis tests performed. Without using the correction, with an alpha of 0.05, how many genes were significantly differentially expressed? With the correction, how many genes were significantly differentially expressed?"
   ]
  },
  {
   "cell_type": "code",
   "execution_count": null,
   "id": "2a5f6493-5cd4-4ac5-ace8-b301ab83ddbd",
   "metadata": {},
   "outputs": [],
   "source": [
    "# CODE HERE"
   ]
  },
  {
   "cell_type": "markdown",
   "id": "b77e10c8-1f9f-45f3-b896-6671e20276b1",
   "metadata": {},
   "source": [
    "*ANSWER HERE*"
   ]
  },
  {
   "cell_type": "markdown",
   "id": "73bc58a6-a68e-4418-bc5e-5e1a693e34d6",
   "metadata": {},
   "source": [
    "## 4: Future Directions"
   ]
  },
  {
   "cell_type": "markdown",
   "id": "16192eba-c7e0-4afb-b528-a8cd45d6700f",
   "metadata": {},
   "source": [
    "#### a) After this EDA, what kind of relationships do you think are worth studying in more detail?"
   ]
  },
  {
   "cell_type": "markdown",
   "id": "9ec0028d-a60f-4ced-8728-761ebfe29b9b",
   "metadata": {},
   "source": [
    "*ANSWER HERE*"
   ]
  },
  {
   "cell_type": "markdown",
   "id": "114d7d9c-5c45-413e-92a8-bde430f544bc",
   "metadata": {},
   "source": [
    "#### b) What kind of data or questions would you want to look into more in the future?"
   ]
  },
  {
   "cell_type": "markdown",
   "id": "d0b0ef05-6bcb-4ed9-a9b4-9a20b18fb649",
   "metadata": {},
   "source": [
    "*ANSWER HERE*"
   ]
  },
  {
   "cell_type": "markdown",
   "id": "1e4d1456-79c7-410e-a01e-be434ad84605",
   "metadata": {},
   "source": [
    "## The end."
   ]
  },
  {
   "cell_type": "code",
   "execution_count": null,
   "id": "4c41de3e-99fc-4519-b88b-4845926d343e",
   "metadata": {},
   "outputs": [],
   "source": []
  },
  {
   "cell_type": "code",
   "execution_count": null,
   "id": "08a422bf-76d1-40bd-ab17-c2cb14edd6ae",
   "metadata": {},
   "outputs": [],
   "source": []
  }
 ],
 "metadata": {
  "kernelspec": {
   "display_name": "Python 3 (ipykernel)",
   "language": "python",
   "name": "python3"
  },
  "language_info": {
   "codemirror_mode": {
    "name": "ipython",
    "version": 3
   },
   "file_extension": ".py",
   "mimetype": "text/x-python",
   "name": "python",
   "nbconvert_exporter": "python",
   "pygments_lexer": "ipython3",
   "version": "3.11.7"
  }
 },
 "nbformat": 4,
 "nbformat_minor": 5
}
